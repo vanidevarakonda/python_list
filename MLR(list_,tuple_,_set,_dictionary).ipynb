{
  "cells": [
    {
      "cell_type": "markdown",
      "metadata": {
        "id": "view-in-github",
        "colab_type": "text"
      },
      "source": [
        "<a href=\"https://colab.research.google.com/github/vanidevarakonda/python_list/blob/main/MLR(list_%2Ctuple_%2C_set%2C_dictionary).ipynb\" target=\"_parent\"><img src=\"https://colab.research.google.com/assets/colab-badge.svg\" alt=\"Open In Colab\"/></a>"
      ]
    },
    {
      "cell_type": "markdown",
      "metadata": {
        "id": "DVeM3YSIuiyd"
      },
      "source": [
        "### **INTRODUCTION TO LIST** ✅"
      ]
    },
    {
      "cell_type": "markdown",
      "metadata": {
        "id": "9MBWuyjKuiyf"
      },
      "source": [
        "#### lists are another one from sequential type. The elements in the list are separated by camma and closed by [] braces.List can store the different data types lets see some exampls....\n"
      ]
    },
    {
      "cell_type": "code",
      "execution_count": null,
      "metadata": {
        "colab": {
          "base_uri": "https://localhost:8080/"
        },
        "id": "j-MGpN1Quiyg",
        "outputId": "1362f2d2-6462-42e1-9896-ef31317c7c6d"
      },
      "outputs": [
        {
          "data": {
            "text/plain": [
              "[1, 3, 4, 45, 'hi', True, 3.0]"
            ]
          },
          "execution_count": 1,
          "metadata": {},
          "output_type": "execute_result"
        }
      ],
      "source": [
        "first_lst=[1,3,4,45,\"hi\",True,3.0]\n",
        "first_lst"
      ]
    },
    {
      "cell_type": "code",
      "execution_count": null,
      "metadata": {
        "colab": {
          "base_uri": "https://localhost:8080/"
        },
        "id": "V4XkdPifuiyh",
        "outputId": "53eefda5-7dd7-4dbd-ef82-fde9ce63f3b8"
      },
      "outputs": [
        {
          "data": {
            "text/plain": [
              "['hello', 23, 3.4, False, 45]"
            ]
          },
          "execution_count": 2,
          "metadata": {},
          "output_type": "execute_result"
        }
      ],
      "source": [
        "another_lst=[\"hello\",23,3.4 ,False,45]\n",
        "another_lst"
      ]
    },
    {
      "cell_type": "code",
      "execution_count": null,
      "metadata": {
        "id": "eWtR5NgeRspo"
      },
      "outputs": [],
      "source": []
    },
    {
      "cell_type": "markdown",
      "metadata": {
        "id": "2UFnewF4uiyh"
      },
      "source": [
        "## List indexing"
      ]
    },
    {
      "cell_type": "markdown",
      "metadata": {
        "id": "xhunhClouiyh"
      },
      "source": [
        "\n",
        "Indexing work just like in strings.\n",
        "\n",
        "A list index refers to the location of an element in a list.\n",
        "\n",
        "Remember the indexing begins from 0 in Python.\n",
        "\n",
        "The first element is assigned an index 0, the second element is assigned an index of 1 and so on and so forth."
      ]
    },
    {
      "cell_type": "markdown",
      "metadata": {
        "id": "FC6QQ1Zsuiyi"
      },
      "source": [
        "![listindex.png](data:image/png;base64,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)"
      ]
    },
    {
      "cell_type": "code",
      "execution_count": null,
      "metadata": {
        "colab": {
          "base_uri": "https://localhost:8080/"
        },
        "id": "_wJ9RZj0uiyj",
        "outputId": "4b463681-03f8-4e82-a6e5-8a0761826f80"
      },
      "outputs": [
        {
          "name": "stdout",
          "output_type": "stream",
          "text": [
            "['Accuracy', 'precision', 'Recall', 'F1score', 'AUC_ROC_Score']\n"
          ]
        }
      ],
      "source": [
        "# consider list of strings\n",
        "\n",
        "metrics=[\"Accuracy\",\"precision\",\"Recall\",\"F1score\",\"AUC_ROC_Score\"]\n",
        "\n",
        "print(metrics)"
      ]
    },
    {
      "cell_type": "code",
      "execution_count": null,
      "metadata": {
        "colab": {
          "base_uri": "https://localhost:8080/",
          "height": 36
        },
        "id": "Og8TFku2uiyk",
        "outputId": "912648ba-1b36-41ac-8779-022ec4726c9d"
      },
      "outputs": [
        {
          "data": {
            "application/vnd.google.colaboratory.intrinsic+json": {
              "type": "string"
            },
            "text/plain": [
              "'Accuracy'"
            ]
          },
          "execution_count": 54,
          "metadata": {},
          "output_type": "execute_result"
        }
      ],
      "source": [
        "metrics[0]"
      ]
    },
    {
      "cell_type": "code",
      "execution_count": null,
      "metadata": {
        "colab": {
          "base_uri": "https://localhost:8080/",
          "height": 36
        },
        "id": "DMDmk1mjuiyl",
        "outputId": "5ea998ac-f032-4b35-e6a6-a7982b019c4f"
      },
      "outputs": [
        {
          "data": {
            "application/vnd.google.colaboratory.intrinsic+json": {
              "type": "string"
            },
            "text/plain": [
              "'F1score'"
            ]
          },
          "execution_count": 55,
          "metadata": {},
          "output_type": "execute_result"
        }
      ],
      "source": [
        "metrics[3]"
      ]
    },
    {
      "cell_type": "code",
      "execution_count": null,
      "metadata": {
        "colab": {
          "base_uri": "https://localhost:8080/",
          "height": 36
        },
        "id": "S2GLdaTmuiyl",
        "outputId": "2d6835b6-9f32-4d9a-ca6d-6097d242394c"
      },
      "outputs": [
        {
          "data": {
            "application/vnd.google.colaboratory.intrinsic+json": {
              "type": "string"
            },
            "text/plain": [
              "'F1score'"
            ]
          },
          "execution_count": 6,
          "metadata": {},
          "output_type": "execute_result"
        }
      ],
      "source": [
        "metrics[-2]  ## index 3(from + side ) is same as -2 from -ve side"
      ]
    },
    {
      "cell_type": "markdown",
      "metadata": {
        "id": "KMbWf9p0uiym"
      },
      "source": [
        "### LIST Slicing\n",
        " We can use a : to perform slicing which grabs everything up to a designated point.\n",
        "\n",
        "The starting index is specified on the left of the : and the ending index is specified on the right of the :.\n",
        "\n",
        "Remember the element located at the right index is not included i.e right side value always present (n-1)\n",
        "\n",
        "if we use another second : it indicates step value means skipping of some part (n-1)"
      ]
    },
    {
      "cell_type": "code",
      "execution_count": null,
      "metadata": {
        "colab": {
          "base_uri": "https://localhost:8080/"
        },
        "id": "qmko84h8uiym",
        "outputId": "653624c9-73bd-4b83-ed8e-8499c89d003c"
      },
      "outputs": [
        {
          "data": {
            "text/plain": [
              "['Accuracy', 'precision', 'Recall', 'F1score', 'AUC_ROC_Score']"
            ]
          },
          "execution_count": 5,
          "metadata": {},
          "output_type": "execute_result"
        }
      ],
      "source": [
        "metrics"
      ]
    },
    {
      "cell_type": "code",
      "execution_count": null,
      "metadata": {
        "colab": {
          "base_uri": "https://localhost:8080/"
        },
        "id": "v0chKznyuiym",
        "outputId": "de38e277-5500-4f6d-8b85-02f2428d9ce7"
      },
      "outputs": [
        {
          "data": {
            "text/plain": [
              "['Accuracy', 'precision', 'Recall', 'F1score', 'AUC_ROC_Score']"
            ]
          },
          "execution_count": 6,
          "metadata": {},
          "output_type": "execute_result"
        }
      ],
      "source": [
        "metrics[0:5]"
      ]
    },
    {
      "cell_type": "code",
      "execution_count": null,
      "metadata": {
        "colab": {
          "base_uri": "https://localhost:8080/"
        },
        "id": "L0nnwCeZuiym",
        "outputId": "7ba1644d-73c2-4107-b555-124a52cbf2ce"
      },
      "outputs": [
        {
          "data": {
            "text/plain": [
              "['Accuracy', 'precision', 'Recall', 'F1score', 'AUC_ROC_Score']"
            ]
          },
          "execution_count": 7,
          "metadata": {},
          "output_type": "execute_result"
        }
      ],
      "source": [
        "metrics[0:]"
      ]
    },
    {
      "cell_type": "code",
      "execution_count": null,
      "metadata": {
        "colab": {
          "base_uri": "https://localhost:8080/"
        },
        "id": "WtFj-ZA2uiym",
        "outputId": "a6a66dfb-8abd-4f02-c30d-392330a5d180"
      },
      "outputs": [
        {
          "data": {
            "text/plain": [
              "['Accuracy', 'precision', 'Recall']"
            ]
          },
          "execution_count": 59,
          "metadata": {},
          "output_type": "execute_result"
        }
      ],
      "source": [
        "metrics[:3]"
      ]
    },
    {
      "cell_type": "code",
      "execution_count": null,
      "metadata": {
        "colab": {
          "base_uri": "https://localhost:8080/"
        },
        "id": "9TcRWIVHHCwv",
        "outputId": "b65822c4-e0c8-4d8d-dfda-0f348c95e639"
      },
      "outputs": [
        {
          "data": {
            "text/plain": [
              "[]"
            ]
          },
          "execution_count": 61,
          "metadata": {},
          "output_type": "execute_result"
        }
      ],
      "source": [
        "metrics[1:1]"
      ]
    },
    {
      "cell_type": "code",
      "execution_count": null,
      "metadata": {
        "colab": {
          "base_uri": "https://localhost:8080/"
        },
        "id": "yEAmB3d3uiyn",
        "outputId": "963eb2d9-b635-4654-82f9-81c897b40549"
      },
      "outputs": [
        {
          "data": {
            "text/plain": [
              "[]"
            ]
          },
          "execution_count": 8,
          "metadata": {},
          "output_type": "execute_result"
        }
      ],
      "source": [
        "metrics[1:-4]"
      ]
    },
    {
      "cell_type": "code",
      "execution_count": null,
      "metadata": {
        "colab": {
          "base_uri": "https://localhost:8080/"
        },
        "id": "TdDbTpynuiyn",
        "outputId": "4677fa20-89b1-4087-a9c5-2f1c2ecd619c"
      },
      "outputs": [
        {
          "data": {
            "text/plain": [
              "['AUC_ROC_Score', 'F1score', 'Recall', 'precision']"
            ]
          },
          "execution_count": 14,
          "metadata": {},
          "output_type": "execute_result"
        }
      ],
      "source": [
        "metrics[5:0:-1]## use step"
      ]
    },
    {
      "cell_type": "code",
      "execution_count": null,
      "metadata": {
        "colab": {
          "base_uri": "https://localhost:8080/"
        },
        "id": "Y_bNyBLduiyn",
        "outputId": "e9d29a43-4413-4a4c-d54a-698b2938b426"
      },
      "outputs": [
        {
          "data": {
            "text/plain": [
              "['Accuracy', 'F1score']"
            ]
          },
          "execution_count": 13,
          "metadata": {},
          "output_type": "execute_result"
        }
      ],
      "source": [
        "metrics[0:5:3]"
      ]
    },
    {
      "cell_type": "code",
      "execution_count": null,
      "metadata": {
        "id": "E1pRxvLnuiyn",
        "outputId": "004b1a75-f1a8-4698-8570-de7a60ba84d2"
      },
      "outputs": [
        {
          "data": {
            "text/plain": [
              "[]"
            ]
          },
          "execution_count": 16,
          "metadata": {},
          "output_type": "execute_result"
        }
      ],
      "source": [
        "metrics[0:4:-1]"
      ]
    },
    {
      "cell_type": "markdown",
      "metadata": {
        "id": "Kc8I2ayXuiyn"
      },
      "source": [
        "### List Operations\n",
        " Remember we said that lists are mutable as opposed to strings. Lets see how can we change the elements of a list\n",
        "\n",
        " We can also use + to concatenate lists, just like we did for strings."
      ]
    },
    {
      "cell_type": "code",
      "execution_count": null,
      "metadata": {
        "colab": {
          "base_uri": "https://localhost:8080/"
        },
        "id": "vOeDNiAOuiyn",
        "outputId": "d53865d4-714d-4cf9-c8d1-16597bbc2657"
      },
      "outputs": [
        {
          "name": "stdout",
          "output_type": "stream",
          "text": [
            "['Accuracy', 'precision', 'Recall', 'F1score', 'AUC_ROC_Score']\n"
          ]
        }
      ],
      "source": [
        "print(metrics)"
      ]
    },
    {
      "cell_type": "code",
      "execution_count": null,
      "metadata": {
        "colab": {
          "base_uri": "https://localhost:8080/"
        },
        "id": "j8o6lc1buiyn",
        "outputId": "8cbe9446-f56f-4ea0-fa72-ff4929ec794a"
      },
      "outputs": [
        {
          "name": "stdout",
          "output_type": "stream",
          "text": [
            "['Accuracy', 'precision', 'Recall', 'F1score', 'AUC_ROC_Score', 'Rosh carporate', 'tarun']\n"
          ]
        }
      ],
      "source": [
        "print(metrics+[\"Rosh carporate\",\"tarun\"]) # concates at end off the list previous elements"
      ]
    },
    {
      "cell_type": "code",
      "execution_count": null,
      "metadata": {
        "colab": {
          "base_uri": "https://localhost:8080/"
        },
        "id": "yB3dhbY7uiyn",
        "outputId": "39fb8704-5a0e-4585-e7d1-e6ffa31f90c3"
      },
      "outputs": [
        {
          "data": {
            "text/plain": [
              "['Accuracy', 'precision', 'Recall', 'F1score', 'AUC_ROC_Score']"
            ]
          },
          "execution_count": 14,
          "metadata": {},
          "output_type": "execute_result"
        }
      ],
      "source": [
        "metrics ##just added but not store in metrics variable then how to do that"
      ]
    },
    {
      "cell_type": "code",
      "execution_count": null,
      "metadata": {
        "colab": {
          "base_uri": "https://localhost:8080/"
        },
        "id": "iA2VDJJuuiyn",
        "outputId": "d813e9ae-85e2-439f-aff5-aa328404768d"
      },
      "outputs": [
        {
          "data": {
            "text/plain": [
              "['Accuracy',\n",
              " 'precision',\n",
              " 'Recall',\n",
              " 'F1score',\n",
              " 'AUC_ROC_Score',\n",
              " 'Rosh carporate']"
            ]
          },
          "execution_count": 17,
          "metadata": {},
          "output_type": "execute_result"
        }
      ],
      "source": [
        "metrics=metrics+['Rosh carporate']\n",
        "metrics"
      ]
    },
    {
      "cell_type": "code",
      "execution_count": null,
      "metadata": {
        "id": "rSJ7goYFTmq_"
      },
      "outputs": [],
      "source": []
    },
    {
      "cell_type": "markdown",
      "metadata": {
        "id": "ul7bOfaOuiyu"
      },
      "source": [
        "## list methods"
      ]
    },
    {
      "cell_type": "markdown",
      "metadata": {
        "id": "S6Nu5BD9T-tA"
      },
      "source": [
        "### https://www.w3schools.com/python/python_ref_list.asp"
      ]
    },
    {
      "cell_type": "code",
      "execution_count": null,
      "metadata": {
        "id": "3yrS6j0KaTgM"
      },
      "outputs": [],
      "source": [
        "lis=[1,2,3,4,'ArithmeticError','amity','hello','hi',['a','b'],[1,2]]"
      ]
    },
    {
      "cell_type": "markdown",
      "metadata": {
        "id": "-fpYiD-naNLw"
      },
      "source": [
        "##append()\n",
        "Use the append() method to permanently add an item to the end of a list.\n",
        "\n",
        "append() method takes the element which you want to add to the list as an argument"
      ]
    },
    {
      "cell_type": "code",
      "execution_count": null,
      "metadata": {
        "colab": {
          "base_uri": "https://localhost:8080/"
        },
        "id": "AaVgQtXeuiyv",
        "outputId": "e3cee94e-9084-4a9b-a49e-2bd94cb31e0f"
      },
      "outputs": [
        {
          "data": {
            "text/plain": [
              "[1,\n",
              " 2,\n",
              " 3,\n",
              " 4,\n",
              " 'ArithmeticError',\n",
              " 'amity',\n",
              " 'hello',\n",
              " 'hi',\n",
              " ['a', 'b'],\n",
              " [1, 2],\n",
              " 2,\n",
              " 'lova']"
            ]
          },
          "execution_count": 19,
          "metadata": {},
          "output_type": "execute_result"
        }
      ],
      "source": [
        "\n",
        "lis.append(2)\n",
        "lis.append(\"lova\")  ## appends as  last element of list\n",
        "lis"
      ]
    },
    {
      "cell_type": "markdown",
      "metadata": {
        "id": "DuzkjtRVbGBA"
      },
      "source": [
        "##pop()\n",
        "Use pop() to \"pop off\" an item from the list.\n",
        "\n",
        "By default pop() takes off the element at the last index, but you can also specify which index to pop off.\n",
        "\n",
        "pop() takes the index as an argument and returns the elenent which was popped off."
      ]
    },
    {
      "cell_type": "code",
      "execution_count": null,
      "metadata": {
        "colab": {
          "base_uri": "https://localhost:8080/"
        },
        "id": "11VCkp2kY2Fh",
        "outputId": "1d278fb1-2fe3-47a6-f1a5-82fb8092ed4a"
      },
      "outputs": [
        {
          "data": {
            "text/plain": [
              "4"
            ]
          },
          "execution_count": 22,
          "metadata": {},
          "output_type": "execute_result"
        }
      ],
      "source": [
        "lis.pop(2)"
      ]
    },
    {
      "cell_type": "code",
      "execution_count": null,
      "metadata": {
        "id": "YBoNlHM_Oei-"
      },
      "outputs": [],
      "source": [
        "lis.remove(\"hi\")\n"
      ]
    },
    {
      "cell_type": "code",
      "execution_count": null,
      "metadata": {
        "colab": {
          "base_uri": "https://localhost:8080/"
        },
        "id": "U4H4uR3hPWJd",
        "outputId": "c860f58f-642e-4060-e9ca-6dfbdb94bee8"
      },
      "outputs": [
        {
          "data": {
            "text/plain": [
              "[1, 3, 'ArithmeticError', 'amity', 'hello', ['a', 'b'], [1, 2], 2]"
            ]
          },
          "execution_count": 24,
          "metadata": {},
          "output_type": "execute_result"
        }
      ],
      "source": [
        "lis"
      ]
    },
    {
      "cell_type": "code",
      "execution_count": null,
      "metadata": {
        "colab": {
          "base_uri": "https://localhost:8080/",
          "height": 36
        },
        "id": "ceQB2nFt3gt_",
        "outputId": "35e8383b-7126-4960-d99a-d33d36609255"
      },
      "outputs": [
        {
          "data": {
            "application/vnd.google.colaboratory.intrinsic+json": {
              "type": "string"
            },
            "text/plain": [
              "'hi'"
            ]
          },
          "execution_count": 69,
          "metadata": {},
          "output_type": "execute_result"
        }
      ],
      "source": [
        "lis.pop(6)"
      ]
    },
    {
      "cell_type": "code",
      "execution_count": null,
      "metadata": {
        "colab": {
          "base_uri": "https://localhost:8080/"
        },
        "id": "UevHrHMEMvgc",
        "outputId": "a0764688-5153-4024-9c0d-1dc1868cc0fb"
      },
      "outputs": [
        {
          "data": {
            "text/plain": [
              "[1,\n",
              " 2,\n",
              " 3,\n",
              " 4,\n",
              " 'ArithmeticError',\n",
              " 'hello',\n",
              " ['a', 'b'],\n",
              " [1, 2],\n",
              " 2,\n",
              " 2,\n",
              " 'ji',\n",
              " 2,\n",
              " 'lova',\n",
              " 2]"
            ]
          },
          "execution_count": 70,
          "metadata": {},
          "output_type": "execute_result"
        }
      ],
      "source": [
        "lis"
      ]
    },
    {
      "cell_type": "markdown",
      "metadata": {
        "id": "37hLcWFlajC2"
      },
      "source": [
        "## extend()\n",
        "Use the extend() method to merge a list to an existing list\n",
        "\n",
        "extend() method takes a list or any iterable(don't worry about it now) as an argument.\n",
        "\n",
        "Quite helpful when you have two or more lists and you want to merge them together"
      ]
    },
    {
      "cell_type": "code",
      "execution_count": null,
      "metadata": {
        "colab": {
          "base_uri": "https://localhost:8080/",
          "height": 145
        },
        "id": "esLwafBruiyv",
        "outputId": "fa4676c8-4dc9-46e4-e691-395cbc8cd54f"
      },
      "outputs": [
        {
          "ename": "TypeError",
          "evalue": "'int' object is not iterable",
          "output_type": "error",
          "traceback": [
            "\u001b[0;31m---------------------------------------------------------------------------\u001b[0m",
            "\u001b[0;31mTypeError\u001b[0m                                 Traceback (most recent call last)",
            "\u001b[0;32m<ipython-input-20-3ae59fd74d7f>\u001b[0m in \u001b[0;36m<cell line: 1>\u001b[0;34m()\u001b[0m\n\u001b[0;32m----> 1\u001b[0;31m \u001b[0mlis\u001b[0m\u001b[0;34m.\u001b[0m\u001b[0mextend\u001b[0m\u001b[0;34m(\u001b[0m\u001b[0;36m2\u001b[0m\u001b[0;34m)\u001b[0m\u001b[0;34m\u001b[0m\u001b[0;34m\u001b[0m\u001b[0m\n\u001b[0m",
            "\u001b[0;31mTypeError\u001b[0m: 'int' object is not iterable"
          ]
        }
      ],
      "source": [
        "lis.extend(2)"
      ]
    },
    {
      "cell_type": "code",
      "execution_count": null,
      "metadata": {
        "colab": {
          "base_uri": "https://localhost:8080/"
        },
        "id": "U0s8jRbPuiyv",
        "outputId": "6bf40817-cc2b-45d7-83bb-86e6103534fe"
      },
      "outputs": [
        {
          "data": {
            "text/plain": [
              "[1, 3, 'ArithmeticError', 'amity', 'hello', ['a', 'b'], [1, 2], 2, 2]"
            ]
          },
          "execution_count": 25,
          "metadata": {},
          "output_type": "execute_result"
        }
      ],
      "source": [
        "lis.extend([2]) #how many times it runs it add those elements that many times end of list\n",
        "lis"
      ]
    },
    {
      "cell_type": "markdown",
      "metadata": {
        "id": "RUUiOtWSbY8L"
      },
      "source": [
        "## insert()\n",
        "The insert() method inserts the specified value at the specified position."
      ]
    },
    {
      "cell_type": "code",
      "execution_count": null,
      "metadata": {
        "id": "skevLjIcuiyv"
      },
      "outputs": [],
      "source": [
        "lira=[4,5,5,6,7]## elements are moved to next position\n",
        "lira.insert(1,\"hi\")"
      ]
    },
    {
      "cell_type": "code",
      "execution_count": null,
      "metadata": {
        "colab": {
          "base_uri": "https://localhost:8080/"
        },
        "id": "gmd_rcMruiyv",
        "outputId": "d4f3f6ec-7ac5-4a2c-9ff2-08bb9a59eec2"
      },
      "outputs": [
        {
          "data": {
            "text/plain": [
              "[4, 'hi', 5, 5, 6, 7]"
            ]
          },
          "execution_count": 24,
          "metadata": {},
          "output_type": "execute_result"
        }
      ],
      "source": [
        "lira"
      ]
    },
    {
      "cell_type": "code",
      "execution_count": null,
      "metadata": {
        "id": "4I25qXSY4jZT"
      },
      "outputs": [],
      "source": [
        "lira.insert(2,\"hello\")"
      ]
    },
    {
      "cell_type": "code",
      "execution_count": null,
      "metadata": {
        "colab": {
          "base_uri": "https://localhost:8080/"
        },
        "id": "9vyh1xKC4q8Q",
        "outputId": "7f4e0cd5-897b-4efd-cd68-f8094237305c"
      },
      "outputs": [
        {
          "data": {
            "text/plain": [
              "[4, 'hi', 'hello', 5, 5, 6, 7]"
            ]
          },
          "execution_count": 26,
          "metadata": {},
          "output_type": "execute_result"
        }
      ],
      "source": [
        "lira"
      ]
    },
    {
      "cell_type": "markdown",
      "metadata": {
        "id": "fWN59C2sciIl"
      },
      "source": [
        "##clear()\n",
        "Removes all the elements from the list"
      ]
    },
    {
      "cell_type": "code",
      "execution_count": null,
      "metadata": {
        "id": "N3XIJlRfuiyv"
      },
      "outputs": [],
      "source": [
        "lira.clear()"
      ]
    },
    {
      "cell_type": "code",
      "execution_count": null,
      "metadata": {
        "colab": {
          "base_uri": "https://localhost:8080/"
        },
        "id": "jRxugZJIuiyv",
        "outputId": "1ca0c850-1814-41a0-d2b8-563bce4f0c2d"
      },
      "outputs": [
        {
          "data": {
            "text/plain": [
              "[]"
            ]
          },
          "execution_count": 28,
          "metadata": {},
          "output_type": "execute_result"
        }
      ],
      "source": [
        "lira"
      ]
    },
    {
      "cell_type": "markdown",
      "metadata": {
        "id": "AHcqtGS4uiyx"
      },
      "source": [
        "## zip @ Enumerate"
      ]
    },
    {
      "cell_type": "markdown",
      "metadata": {
        "id": "HUoxasbiuiyx"
      },
      "source": [
        "### zip work for more than two lists and  create the low size input tuples"
      ]
    },
    {
      "cell_type": "code",
      "execution_count": null,
      "metadata": {
        "colab": {
          "base_uri": "https://localhost:8080/"
        },
        "id": "RmWUYbefuiyx",
        "outputId": "ff6ed5ce-ab46-4e2c-d50d-54b251bf8d1b"
      },
      "outputs": [
        {
          "name": "stdout",
          "output_type": "stream",
          "text": [
            "<zip object at 0x795f9328fd00>\n"
          ]
        }
      ],
      "source": [
        "### getting memory location\n",
        "ki=[1,2,3,4]\n",
        "ki1=[3,4,4,5]\n",
        "l1=zip(ki,ki1)\n",
        "print(l1)"
      ]
    },
    {
      "cell_type": "code",
      "execution_count": null,
      "metadata": {
        "colab": {
          "base_uri": "https://localhost:8080/"
        },
        "id": "0imAdU6_uiyx",
        "outputId": "56c52086-7620-4d28-ddbe-39d94ce4da6e"
      },
      "outputs": [
        {
          "name": "stdout",
          "output_type": "stream",
          "text": [
            "list of [(1, 3, 1), (2, 4, 2), (3, 4, 3)]\n"
          ]
        }
      ],
      "source": [
        "### by using list or\n",
        "ki=[1,2,3,4,3]\n",
        "ki1=[3,4,4,5]\n",
        "li=[1,2,3]\n",
        "l1=list(zip(ki,ki1,li))\n",
        "\n",
        "print(\"list of\",l1)\n"
      ]
    },
    {
      "cell_type": "markdown",
      "metadata": {
        "id": "A-15mhz1uiyy"
      },
      "source": [
        "## enumerate"
      ]
    },
    {
      "cell_type": "code",
      "execution_count": null,
      "metadata": {
        "colab": {
          "base_uri": "https://localhost:8080/"
        },
        "id": "wELxwNBpVpIl",
        "outputId": "7be038e0-5ba4-4995-d241-2e037b93763f"
      },
      "outputs": [
        {
          "data": {
            "text/plain": [
              "[(0, 4), (1, 5), (2, 6), (3, 7), (4, 8), (5, 9)]"
            ]
          },
          "execution_count": 31,
          "metadata": {},
          "output_type": "execute_result"
        }
      ],
      "source": [
        "l1=[4,5,6,7,8,9]\n",
        "\n",
        "list(enumerate(l1))\n"
      ]
    },
    {
      "cell_type": "code",
      "execution_count": null,
      "metadata": {
        "colab": {
          "base_uri": "https://localhost:8080/"
        },
        "id": "a_1pYfpruiyy",
        "outputId": "3816a2a2-be16-458f-f5c4-58d15146d4ce"
      },
      "outputs": [
        {
          "data": {
            "text/plain": [
              "[(1, 'hey'), (2, 'john'), (3, 'fred')]"
            ]
          },
          "execution_count": 7,
          "metadata": {},
          "output_type": "execute_result"
        }
      ],
      "source": [
        "l2=('hey','john','fred')\n",
        "list(enumerate(l2,start=1))\n"
      ]
    },
    {
      "cell_type": "markdown",
      "metadata": {
        "id": "ALc4COxQuiy0"
      },
      "source": [
        "## sort @ sorted"
      ]
    },
    {
      "cell_type": "code",
      "execution_count": null,
      "metadata": {
        "colab": {
          "base_uri": "https://localhost:8080/",
          "height": 199
        },
        "id": "PwGDp8QUi7fD",
        "outputId": "be064b66-6e52-4737-9c8d-c18ec6b567b6"
      },
      "outputs": [
        {
          "ename": "TypeError",
          "evalue": "'<' not supported between instances of 'str' and 'int'",
          "output_type": "error",
          "traceback": [
            "\u001b[0;31m---------------------------------------------------------------------------\u001b[0m",
            "\u001b[0;31mTypeError\u001b[0m                                 Traceback (most recent call last)",
            "\u001b[0;32m<ipython-input-39-56d51f48b2ef>\u001b[0m in \u001b[0;36m<cell line: 3>\u001b[0;34m()\u001b[0m\n\u001b[1;32m      1\u001b[0m \u001b[0ml1\u001b[0m\u001b[0;34m=\u001b[0m\u001b[0;34m[\u001b[0m\u001b[0;36m22\u001b[0m\u001b[0;34m,\u001b[0m\u001b[0;36m3\u001b[0m\u001b[0;34m,\u001b[0m\u001b[0;36m4\u001b[0m\u001b[0;34m,\u001b[0m\u001b[0;36m51\u001b[0m\u001b[0;34m,\u001b[0m\u001b[0;36m6\u001b[0m\u001b[0;34m,\u001b[0m\u001b[0;36m71\u001b[0m\u001b[0;34m,\u001b[0m\u001b[0;36m8\u001b[0m\u001b[0;34m,\u001b[0m\u001b[0;36m9\u001b[0m\u001b[0;34m,\u001b[0m\u001b[0;36m10\u001b[0m\u001b[0;34m,\u001b[0m\u001b[0;34m\"hi\"\u001b[0m\u001b[0;34m]\u001b[0m \u001b[0;31m#### original one chenges its order\u001b[0m\u001b[0;34m\u001b[0m\u001b[0;34m\u001b[0m\u001b[0m\n\u001b[1;32m      2\u001b[0m \u001b[0;34m\u001b[0m\u001b[0m\n\u001b[0;32m----> 3\u001b[0;31m \u001b[0ml1\u001b[0m\u001b[0;34m.\u001b[0m\u001b[0msort\u001b[0m\u001b[0;34m(\u001b[0m\u001b[0;34m)\u001b[0m \u001b[0;31m# Output:\u001b[0m\u001b[0;34m\u001b[0m\u001b[0;34m\u001b[0m\u001b[0m\n\u001b[0m\u001b[1;32m      4\u001b[0m \u001b[0mprint\u001b[0m\u001b[0;34m(\u001b[0m\u001b[0ml1\u001b[0m\u001b[0;34m)\u001b[0m\u001b[0;34m\u001b[0m\u001b[0;34m\u001b[0m\u001b[0m\n",
            "\u001b[0;31mTypeError\u001b[0m: '<' not supported between instances of 'str' and 'int'"
          ]
        }
      ],
      "source": [
        "l1=[22,3,4,51,6,71,8,9,10,\"hi\"] #### original one chenges its order\n",
        "\n",
        "l1.sort() # Output:\n",
        "print(l1)"
      ]
    },
    {
      "cell_type": "code",
      "execution_count": null,
      "metadata": {
        "colab": {
          "base_uri": "https://localhost:8080/"
        },
        "id": "tCrh1SX3uiy0",
        "outputId": "d22c8533-b6c8-4f9c-f001-dc683b90b3fa"
      },
      "outputs": [
        {
          "name": "stdout",
          "output_type": "stream",
          "text": [
            "[71, 51, 22, 10, 9, 8, 6, 4, 3]\n"
          ]
        }
      ],
      "source": [
        "l1=[22,3,4,51,6,71,8,9,10] #### original one chenges its order\n",
        "\n",
        "l1.sort(reverse=True) # Output:\n",
        "print(l1)\n"
      ]
    },
    {
      "cell_type": "code",
      "execution_count": null,
      "metadata": {
        "colab": {
          "base_uri": "https://localhost:8080/"
        },
        "id": "N-oQzKwmuiy0",
        "outputId": "ada1b943-3d5e-481c-b122-253da39c5734"
      },
      "outputs": [
        {
          "name": "stdout",
          "output_type": "stream",
          "text": [
            "[222, 1, 3, 4, 22, 5, 10]\n",
            "[1, 3, 4, 5, 10, 22, 222]\n"
          ]
        }
      ],
      "source": [
        "l2=[222,1,3,4,22,5,10] ## original one not chnges its order\n",
        "print(l2)\n",
        "print(sorted(l2))"
      ]
    },
    {
      "cell_type": "code",
      "execution_count": null,
      "metadata": {
        "colab": {
          "base_uri": "https://localhost:8080/"
        },
        "id": "b_vZEGRYVA90",
        "outputId": "f9893c33-b588-4f02-91aa-20fc98cbf3a7"
      },
      "outputs": [
        {
          "data": {
            "text/plain": [
              "7"
            ]
          },
          "execution_count": 38,
          "metadata": {},
          "output_type": "execute_result"
        }
      ],
      "source": [
        "len(l2)"
      ]
    },
    {
      "cell_type": "markdown",
      "metadata": {
        "id": "cZ3ZWg7Ouiy1"
      },
      "source": [
        "#**tuple**"
      ]
    },
    {
      "cell_type": "markdown",
      "metadata": {
        "id": "Oi9wwc-EgsOY"
      },
      "source": [
        "Constructing Tuples\n",
        "The construction of a tuples use () with elements separated by commas."
      ]
    },
    {
      "cell_type": "code",
      "execution_count": null,
      "metadata": {
        "colab": {
          "base_uri": "https://localhost:8080/"
        },
        "id": "J2oM0wixg2-V",
        "outputId": "b2514dc8-6f21-49bc-fea8-c77cb721ee0b"
      },
      "outputs": [
        {
          "name": "stdout",
          "output_type": "stream",
          "text": [
            "('raju', 'ravi', 1, 2, 3, 7.8)\n"
          ]
        },
        {
          "data": {
            "text/plain": [
              "tuple"
            ]
          },
          "execution_count": 39,
          "metadata": {},
          "output_type": "execute_result"
        }
      ],
      "source": [
        "# Create a tuple\n",
        "ab=(\"raju\",\"ravi\",1,2,3,7.8)\n",
        "print(ab)\n",
        "\n",
        "type(ab)"
      ]
    },
    {
      "cell_type": "markdown",
      "metadata": {
        "id": "pPo53oQyi_RD"
      },
      "source": [
        "##Tuple Indexing\n",
        "Indexing work just like in lists\n",
        "\n",
        "A tuple index refers to the location of an element/or Items in a tuple\n",
        "\n",
        ". Remember the indexing begins from 0 in Python\n",
        "\n",
        ". The first element is assigned an index 0, the second element is assigned an index of 1 and so on and so forth."
      ]
    },
    {
      "cell_type": "markdown",
      "metadata": {
        "id": "aLKW5KLGklcy"
      },
      "source": [
        "## https://www.w3schools.com/python/python_ref_tuple.asp"
      ]
    },
    {
      "cell_type": "code",
      "execution_count": null,
      "metadata": {
        "id": "5m8LFm4xjFF9"
      },
      "outputs": [],
      "source": [
        "print(ab)\n",
        "('raju', 'ravi', 1, 2, 3, 7.8)"
      ]
    },
    {
      "cell_type": "code",
      "execution_count": null,
      "metadata": {
        "colab": {
          "base_uri": "https://localhost:8080/",
          "height": 35
        },
        "id": "gFUOGK2bjJLv",
        "outputId": "57a0d193-9076-4973-d41a-f2689aa6ef47"
      },
      "outputs": [
        {
          "data": {
            "application/vnd.google.colaboratory.intrinsic+json": {
              "type": "string"
            },
            "text/plain": [
              "'raju'"
            ]
          },
          "execution_count": 11,
          "metadata": {},
          "output_type": "execute_result"
        }
      ],
      "source": [
        "# Grab the element at index 0, which is the FIRST element\n",
        "ab[0]\n",
        "'raju'"
      ]
    },
    {
      "cell_type": "code",
      "execution_count": null,
      "metadata": {
        "colab": {
          "base_uri": "https://localhost:8080/",
          "height": 35
        },
        "id": "4IWUJEjGjK9I",
        "outputId": "96ed816c-c885-4d4d-97ff-f379d1738bb4"
      },
      "outputs": [
        {
          "data": {
            "application/vnd.google.colaboratory.intrinsic+json": {
              "type": "string"
            },
            "text/plain": [
              "'a'"
            ]
          },
          "execution_count": 12,
          "metadata": {},
          "output_type": "execute_result"
        }
      ],
      "source": [
        "\n",
        "ab[0][1]\n",
        "'a'"
      ]
    },
    {
      "cell_type": "code",
      "execution_count": null,
      "metadata": {
        "colab": {
          "base_uri": "https://localhost:8080/"
        },
        "id": "Z30Y0dfBi74X",
        "outputId": "93e5bc39-fff3-429e-edd5-281dc90a51a5"
      },
      "outputs": [
        {
          "name": "stdout",
          "output_type": "stream",
          "text": [
            "2\n"
          ]
        }
      ],
      "source": [
        "# Grab the element at the index -3, which is the THIRD LAST element\n",
        "print(ab[-3])\n",
        "\n"
      ]
    },
    {
      "cell_type": "code",
      "execution_count": null,
      "metadata": {
        "colab": {
          "base_uri": "https://localhost:8080/",
          "height": 141
        },
        "id": "2ffO_K69kClh",
        "outputId": "fdb027ce-e14f-4040-84e1-9a66cef43d2b"
      },
      "outputs": [
        {
          "ename": "IndexError",
          "evalue": "tuple index out of range",
          "output_type": "error",
          "traceback": [
            "\u001b[0;31m---------------------------------------------------------------------------\u001b[0m",
            "\u001b[0;31mIndexError\u001b[0m                                Traceback (most recent call last)",
            "\u001b[0;32m<ipython-input-15-f51908a3bdd1>\u001b[0m in \u001b[0;36m<cell line: 1>\u001b[0;34m()\u001b[0m\n\u001b[0;32m----> 1\u001b[0;31m \u001b[0mprint\u001b[0m\u001b[0;34m(\u001b[0m\u001b[0mab\u001b[0m\u001b[0;34m[\u001b[0m\u001b[0;36m6\u001b[0m\u001b[0;34m]\u001b[0m\u001b[0;34m)\u001b[0m\u001b[0;34m\u001b[0m\u001b[0;34m\u001b[0m\u001b[0m\n\u001b[0m",
            "\u001b[0;31mIndexError\u001b[0m: tuple index out of range"
          ]
        }
      ],
      "source": [
        "print(ab[6])"
      ]
    },
    {
      "cell_type": "markdown",
      "metadata": {
        "id": "osngKH6Mhlzm"
      },
      "source": [
        "##tuple operations"
      ]
    },
    {
      "cell_type": "code",
      "execution_count": null,
      "metadata": {
        "colab": {
          "base_uri": "https://localhost:8080/"
        },
        "id": "jlpMDhjIg-uh",
        "outputId": "a1b4aab2-e224-4f2b-a871-66424e9be876"
      },
      "outputs": [
        {
          "name": "stdout",
          "output_type": "stream",
          "text": [
            "(1, 2, 3, 7.8, 'raju', 'ravi', 1, 2, 3, 7.8)\n"
          ]
        }
      ],
      "source": [
        "## concatenation\n",
        "a=(1,2,3,7.8)\n",
        "print(a+ab)"
      ]
    },
    {
      "cell_type": "code",
      "execution_count": null,
      "metadata": {
        "colab": {
          "base_uri": "https://localhost:8080/"
        },
        "id": "XDB4xb5Z8yOY",
        "outputId": "806e68d3-0d35-4a59-bd7f-15bac2bc3c7c"
      },
      "outputs": [
        {
          "data": {
            "text/plain": [
              "('raju', 'ravi', 1, 2, 3, 7.8)"
            ]
          },
          "execution_count": 42,
          "metadata": {},
          "output_type": "execute_result"
        }
      ],
      "source": [
        "ab"
      ]
    },
    {
      "cell_type": "code",
      "execution_count": null,
      "metadata": {
        "id": "pg90wGpr8xsk"
      },
      "outputs": [],
      "source": []
    },
    {
      "cell_type": "code",
      "execution_count": null,
      "metadata": {
        "colab": {
          "base_uri": "https://localhost:8080/"
        },
        "id": "JM9F4SiSiSoV",
        "outputId": "d36c1749-b18c-46c3-fcbc-ac1d3661199c"
      },
      "outputs": [
        {
          "name": "stdout",
          "output_type": "stream",
          "text": [
            "(1, 2, 3, 7.8, 1, 2, 3, 7.8)\n"
          ]
        }
      ],
      "source": [
        "### multiplication with integer\n",
        "print(a*2)"
      ]
    },
    {
      "cell_type": "markdown",
      "metadata": {
        "id": "krh59Aq2lZU8"
      },
      "source": [
        "##index()\n",
        "Searches the tuple for a specified value and returns the position of where it was found"
      ]
    },
    {
      "cell_type": "code",
      "execution_count": null,
      "metadata": {
        "colab": {
          "base_uri": "https://localhost:8080/"
        },
        "id": "raCBoIiAlGY3",
        "outputId": "4e701350-f357-49b0-fc75-9713dfa20904"
      },
      "outputs": [
        {
          "data": {
            "text/plain": [
              "5"
            ]
          },
          "execution_count": 44,
          "metadata": {},
          "output_type": "execute_result"
        }
      ],
      "source": [
        "abc=(1, 2, 3, 9, 143, 11.5, 'aditya', 'swathi', 'sujana')\n",
        "abc.index(11.5)\n"
      ]
    },
    {
      "cell_type": "markdown",
      "metadata": {
        "id": "7xOODWN5lRAT"
      },
      "source": [
        "##count()\n",
        "Returns the number of times a specified value occurs in a tuple"
      ]
    },
    {
      "cell_type": "code",
      "execution_count": null,
      "metadata": {
        "colab": {
          "base_uri": "https://localhost:8080/"
        },
        "id": "WeN3vUeKlhF8",
        "outputId": "4622bfcd-6c51-44e8-b4f1-7684379a04e5"
      },
      "outputs": [
        {
          "data": {
            "text/plain": [
              "2"
            ]
          },
          "execution_count": 45,
          "metadata": {},
          "output_type": "execute_result"
        }
      ],
      "source": [
        "abc=(1,1,2, 2,2, 3, 9, 143, 11.5, 'aditya', 'swathi', 'sujana')\n",
        "abc.count(1)\n"
      ]
    },
    {
      "cell_type": "code",
      "execution_count": null,
      "metadata": {
        "id": "DPPkJMHqnNGV"
      },
      "outputs": [],
      "source": []
    },
    {
      "cell_type": "markdown",
      "metadata": {
        "id": "U9tbpMpqWXqr"
      },
      "source": [
        "#sets"
      ]
    },
    {
      "cell_type": "markdown",
      "metadata": {
        "id": "g6aMM4wbXvsi"
      },
      "source": [
        "### Key Properties of Sets:\n",
        "\n",
        "1. **Uniqueness**: Sets only contain unique elements. If you try to add a duplicate, it will be ignored.\n",
        "2. **Unordered**: Elements in a set have no specific order. The order of elements when iterated is not guaranteed.\n",
        "3. **Mutable**: Elements can be added or removed from a set after its creation.\n",
        "4. **Iterability**: Sets can be iterated using loops, allowing you to access each element."
      ]
    },
    {
      "cell_type": "code",
      "execution_count": null,
      "metadata": {
        "id": "CgWw_WxuXvsl",
        "outputId": "1e531d3f-e571-4750-a36b-26062fc88ecb"
      },
      "outputs": [
        {
          "data": {
            "text/plain": [
              "set"
            ]
          },
          "execution_count": 14,
          "metadata": {},
          "output_type": "execute_result"
        }
      ],
      "source": [
        "s = {1,23}\n",
        "type(s)"
      ]
    },
    {
      "cell_type": "code",
      "execution_count": null,
      "metadata": {
        "id": "ZE_RKcvMXvsm",
        "outputId": "292e78be-d5f2-4a61-8e49-8d89910f49e8"
      },
      "outputs": [
        {
          "data": {
            "text/plain": [
              "dict"
            ]
          },
          "execution_count": 16,
          "metadata": {},
          "output_type": "execute_result"
        }
      ],
      "source": [
        "d = {1:2 ,4:\"b\"}\n",
        "type(d)"
      ]
    },
    {
      "cell_type": "code",
      "execution_count": null,
      "metadata": {
        "colab": {
          "base_uri": "https://localhost:8080/"
        },
        "id": "tx0AdAH9Xvsn",
        "outputId": "70a15e1f-e494-4461-8f7c-65e0ceedd402"
      },
      "outputs": [
        {
          "data": {
            "text/plain": [
              "dict"
            ]
          },
          "execution_count": 46,
          "metadata": {},
          "output_type": "execute_result"
        }
      ],
      "source": [
        "s1 = {}\n",
        "type(s1)"
      ]
    },
    {
      "cell_type": "code",
      "execution_count": null,
      "metadata": {
        "colab": {
          "base_uri": "https://localhost:8080/"
        },
        "id": "8st95pHbXvsn",
        "outputId": "a3a1f18f-299b-4400-e77f-c9c5062a0bfa"
      },
      "outputs": [
        {
          "data": {
            "text/plain": [
              "set"
            ]
          },
          "execution_count": 47,
          "metadata": {},
          "output_type": "execute_result"
        }
      ],
      "source": [
        "s2 =set()\n",
        "type(s2)"
      ]
    },
    {
      "cell_type": "code",
      "execution_count": null,
      "metadata": {
        "colab": {
          "base_uri": "https://localhost:8080/"
        },
        "id": "vZIbN8dVXvsn",
        "outputId": "96e88dbe-2869-48ab-df23-2e164c546746"
      },
      "outputs": [
        {
          "name": "stdout",
          "output_type": "stream",
          "text": [
            "{1, 2, 'price', (1, 23, 4)}\n"
          ]
        }
      ],
      "source": [
        "s3 ={1,2, \"price\",(1,23,4)}\n",
        "print(s3)"
      ]
    },
    {
      "cell_type": "code",
      "execution_count": null,
      "metadata": {
        "id": "QDJ7la2JXvso",
        "outputId": "738f7d12-362e-4a0d-c6d5-7726444a17aa"
      },
      "outputs": [
        {
          "data": {
            "text/plain": [
              "set"
            ]
          },
          "execution_count": 30,
          "metadata": {},
          "output_type": "execute_result"
        }
      ],
      "source": [
        "my_set = set([1,23,5,\"price \"])\n",
        "type(my_set)"
      ]
    },
    {
      "cell_type": "code",
      "execution_count": null,
      "metadata": {
        "id": "eWmiYC5rXvso",
        "outputId": "fa3d4782-eb66-4379-96cf-b43e37b04794"
      },
      "outputs": [
        {
          "data": {
            "text/plain": [
              "set"
            ]
          },
          "execution_count": 32,
          "metadata": {},
          "output_type": "execute_result"
        }
      ],
      "source": [
        "l =[1,2,34,5]\n",
        "l1 =set(l)\n",
        "type(l1)"
      ]
    },
    {
      "cell_type": "code",
      "execution_count": null,
      "metadata": {
        "colab": {
          "base_uri": "https://localhost:8080/"
        },
        "id": "khTvTuv6Xvso",
        "outputId": "7730e9fb-13c7-4aff-917f-9d330d32a369"
      },
      "outputs": [
        {
          "name": "stdout",
          "output_type": "stream",
          "text": [
            "{1, 2, 3, 34, 343, 43}\n"
          ]
        }
      ],
      "source": [
        "# uniqueness\n",
        "\n",
        "s = {1,2,3,43,43,34,343,43,43}\n",
        "print(s)"
      ]
    },
    {
      "cell_type": "code",
      "execution_count": null,
      "metadata": {
        "colab": {
          "base_uri": "https://localhost:8080/"
        },
        "id": "NHCA5O-vXvsp",
        "outputId": "f071df10-cbcd-4768-925e-4b4ce9f95fa5"
      },
      "outputs": [
        {
          "name": "stdout",
          "output_type": "stream",
          "text": [
            "{1, 2, 3, 4, 35}\n"
          ]
        }
      ],
      "source": [
        "# unordered\n",
        "s1 = {4,3,2,1,35,35 ,4}\n",
        "print(s1)"
      ]
    },
    {
      "cell_type": "code",
      "execution_count": null,
      "metadata": {
        "id": "DFpREJvhXvsp",
        "outputId": "eb177b3b-b7a8-499c-eeba-6ca773e28bc3"
      },
      "outputs": [
        {
          "ename": "TypeError",
          "evalue": "'set' object does not support item assignment",
          "output_type": "error",
          "traceback": [
            "\u001b[0;31m---------------------------------------------------------------------------\u001b[0m",
            "\u001b[0;31mTypeError\u001b[0m                                 Traceback (most recent call last)",
            "Cell \u001b[0;32mIn[40], line 1\u001b[0m\n\u001b[0;32m----> 1\u001b[0m s1[\u001b[38;5;241m0\u001b[39m] \u001b[38;5;241m=\u001b[39m \u001b[38;5;241m90\u001b[39m\n",
            "\u001b[0;31mTypeError\u001b[0m: 'set' object does not support item assignment"
          ]
        }
      ],
      "source": [
        "s1[0] = 90"
      ]
    },
    {
      "cell_type": "markdown",
      "metadata": {
        "id": "plCnEc5RXvsq"
      },
      "source": [
        "### Where and When to Use Sets\n",
        "\n",
        "1. **Removing Duplicates**:\n",
        "    - Use sets when you need to store a collection of unique elements and automatically handle duplicates.\n",
        "\n",
        "        ```\n",
        "        \n",
        "2. **Fast Membership Testing**:\n",
        "    - Sets offer faster membership testing (`in` operator) compared to lists or tuples.\n",
        "\n",
        "        \n",
        "3. **Mathematical Operations**:\n",
        "    - Sets are ideal for performing mathematical operations like union, intersection, difference, and symmetric difference.\n",
        "4. **Handling Large Datasets**:\n",
        "    - Sets are highly efficient for operations that involve large datasets, where you need to compare, combine, or deduplicate data."
      ]
    },
    {
      "cell_type": "code",
      "execution_count": null,
      "metadata": {
        "id": "JAxuJUBhXvsq"
      },
      "outputs": [],
      "source": [
        "l =[1,3,42,3,453,23,23,23,25,34,3,53,54,54,43]\n",
        "\n",
        "l1 =set(l )"
      ]
    },
    {
      "cell_type": "code",
      "execution_count": null,
      "metadata": {
        "id": "x9erSdJmXvsq",
        "outputId": "81df5231-c35a-4cbf-c6a9-f9a1a9437842"
      },
      "outputs": [
        {
          "data": {
            "text/plain": [
              "{1, 3, 23, 25, 34, 42, 43, 53, 54, 453}"
            ]
          },
          "execution_count": 3,
          "metadata": {},
          "output_type": "execute_result"
        }
      ],
      "source": [
        "l1"
      ]
    },
    {
      "cell_type": "code",
      "execution_count": null,
      "metadata": {
        "id": "UKRgM9lYXvsq"
      },
      "outputs": [],
      "source": []
    },
    {
      "cell_type": "code",
      "execution_count": null,
      "metadata": {
        "id": "M2OXzl4nXvsq"
      },
      "outputs": [],
      "source": [
        "for i in range(1,1000):\n",
        "    print(i)"
      ]
    },
    {
      "cell_type": "code",
      "execution_count": null,
      "metadata": {
        "id": "-feuJ5dKXvsr",
        "outputId": "c72b27b5-f348-4bbd-90e1-4143fcb2b471"
      },
      "outputs": [
        {
          "data": {
            "text/plain": [
              "True"
            ]
          },
          "execution_count": 6,
          "metadata": {},
          "output_type": "execute_result"
        }
      ],
      "source": [
        "500 in set(range(1,1000 ))"
      ]
    },
    {
      "cell_type": "code",
      "execution_count": null,
      "metadata": {
        "id": "zlWEaWl_Xvsr"
      },
      "outputs": [],
      "source": [
        "l1 =set(range(1,1000))\n",
        "l2 =set(range(500,5000))\n",
        "\n",
        "\n",
        "l1 & l2"
      ]
    },
    {
      "cell_type": "code",
      "execution_count": null,
      "metadata": {
        "id": "5UMUtNooXvsr"
      },
      "outputs": [],
      "source": []
    },
    {
      "cell_type": "code",
      "execution_count": null,
      "metadata": {
        "id": "yp7lefZfXvsr"
      },
      "outputs": [],
      "source": [
        "l1.intersection(l2)"
      ]
    },
    {
      "cell_type": "code",
      "execution_count": null,
      "metadata": {
        "id": "4AKNCRAtXvsr"
      },
      "outputs": [],
      "source": [
        "range(1,10000000)"
      ]
    },
    {
      "cell_type": "markdown",
      "metadata": {
        "id": "A3A6mRlUZH4n"
      },
      "source": [
        "## methods"
      ]
    },
    {
      "cell_type": "markdown",
      "metadata": {
        "id": "fj4CsEgUXvsy"
      },
      "source": [
        " 1. **`add(element)`**\n",
        "    - Adds a single element to the set. If the element is already present, it does nothing."
      ]
    },
    {
      "cell_type": "code",
      "execution_count": null,
      "metadata": {
        "id": "rG1TCsxYXvsy"
      },
      "outputs": [],
      "source": [
        "s={1,2,3,4,2,6}\n",
        "s.add(76)"
      ]
    },
    {
      "cell_type": "markdown",
      "metadata": {
        "id": "jkT7sc9FXvsy"
      },
      "source": [
        "s"
      ]
    },
    {
      "cell_type": "code",
      "execution_count": null,
      "metadata": {
        "id": "NTsd4LJ7Xvsy"
      },
      "outputs": [],
      "source": [
        "s.add(76)\n"
      ]
    },
    {
      "cell_type": "code",
      "execution_count": null,
      "metadata": {
        "colab": {
          "base_uri": "https://localhost:8080/"
        },
        "id": "zG1j8GA2Xvsy",
        "outputId": "04d85565-82a2-4fb4-a81a-15f538c202f5"
      },
      "outputs": [
        {
          "data": {
            "text/plain": [
              "{1, 2, 3, 4, 6, 76}"
            ]
          },
          "execution_count": 2,
          "metadata": {},
          "output_type": "execute_result"
        }
      ],
      "source": [
        "s"
      ]
    },
    {
      "cell_type": "markdown",
      "metadata": {
        "id": "xqPMxNLiXvsz"
      },
      "source": [
        "2. **`remove(element)`**\n",
        "    - Removes a specific element from the set. Raises a `KeyError` if the element is not found.\n",
        "\n",
        "    \n",
        "3. **`discard(element)`**\n",
        "    - Removes a specific element from the set, but does not raise an error if the element is not found.\n",
        "    \n",
        "\n",
        "    \n",
        "4. **`pop()`**\n",
        "    - Removes and returns an arbitrary element from the set. Raises a `KeyError` if the set is empty.\n",
        "\n",
        "    \n",
        "5. **`clear()`**\n",
        "    - Removes all elements from the set, leaving it empty."
      ]
    },
    {
      "cell_type": "code",
      "execution_count": null,
      "metadata": {
        "colab": {
          "background_save": true
        },
        "id": "Cgjr73nyXvsz",
        "outputId": "a6400812-f31b-4fa0-ea0f-d16c026d7825"
      },
      "outputs": [
        {
          "ename": "KeyError",
          "evalue": "100",
          "output_type": "error",
          "traceback": [
            "\u001b[0;31m---------------------------------------------------------------------------\u001b[0m",
            "\u001b[0;31mKeyError\u001b[0m                                  Traceback (most recent call last)",
            "\u001b[0;32m<ipython-input-4-d197555c5fbf>\u001b[0m in \u001b[0;36m<cell line: 1>\u001b[0;34m()\u001b[0m\n\u001b[0;32m----> 1\u001b[0;31m \u001b[0ms\u001b[0m\u001b[0;34m.\u001b[0m\u001b[0mremove\u001b[0m\u001b[0;34m(\u001b[0m\u001b[0;36m100\u001b[0m\u001b[0;34m)\u001b[0m\u001b[0;34m\u001b[0m\u001b[0;34m\u001b[0m\u001b[0m\n\u001b[0m",
            "\u001b[0;31mKeyError\u001b[0m: 100"
          ]
        }
      ],
      "source": [
        "s.remove(76)"
      ]
    },
    {
      "cell_type": "code",
      "execution_count": null,
      "metadata": {
        "id": "iaA6s9e7Xvsz",
        "outputId": "6edb18cc-e9f1-4f20-fe41-baa08bd7db97"
      },
      "outputs": [
        {
          "ename": "KeyError",
          "evalue": "76",
          "output_type": "error",
          "traceback": [
            "\u001b[0;31m---------------------------------------------------------------------------\u001b[0m",
            "\u001b[0;31mKeyError\u001b[0m                                  Traceback (most recent call last)",
            "Cell \u001b[0;32mIn[41], line 1\u001b[0m\n\u001b[0;32m----> 1\u001b[0m s\u001b[38;5;241m.\u001b[39mremove(\u001b[38;5;241m76\u001b[39m)\n",
            "\u001b[0;31mKeyError\u001b[0m: 76"
          ]
        }
      ],
      "source": [
        "s.remove(76)"
      ]
    },
    {
      "cell_type": "code",
      "execution_count": null,
      "metadata": {
        "id": "A6oPYIOwXvsz"
      },
      "outputs": [],
      "source": [
        "s.discard(76)"
      ]
    },
    {
      "cell_type": "code",
      "execution_count": null,
      "metadata": {
        "id": "9a85ATahXvsz",
        "outputId": "3f417c97-c95f-4639-c864-a9be87315aea"
      },
      "outputs": [
        {
          "data": {
            "text/plain": [
              "{1, 2, 3, 4, 6}"
            ]
          },
          "execution_count": 43,
          "metadata": {},
          "output_type": "execute_result"
        }
      ],
      "source": [
        "s"
      ]
    },
    {
      "cell_type": "code",
      "execution_count": null,
      "metadata": {
        "id": "cBwURAmNXvsz"
      },
      "outputs": [],
      "source": [
        "s.clear()"
      ]
    },
    {
      "cell_type": "code",
      "execution_count": null,
      "metadata": {
        "id": "uYi6S2w3Xvs0",
        "outputId": "34e60955-7835-4f99-9dbb-e94b37eececf"
      },
      "outputs": [
        {
          "data": {
            "text/plain": [
              "set()"
            ]
          },
          "execution_count": 45,
          "metadata": {},
          "output_type": "execute_result"
        }
      ],
      "source": [
        "s"
      ]
    },
    {
      "cell_type": "code",
      "execution_count": null,
      "metadata": {
        "id": "i6G49ccMXvs0",
        "outputId": "ccad5e46-3986-43a8-ee83-dd2ce09e2f6f"
      },
      "outputs": [
        {
          "data": {
            "text/plain": [
              "{5}"
            ]
          },
          "execution_count": 47,
          "metadata": {},
          "output_type": "execute_result"
        }
      ],
      "source": [
        "s.add(5)\n",
        "s"
      ]
    },
    {
      "cell_type": "code",
      "execution_count": null,
      "metadata": {
        "id": "lyhASwx4Xvs0",
        "outputId": "1d44d6f2-3df6-4ad6-eaf2-4ad1e527f703"
      },
      "outputs": [
        {
          "data": {
            "text/plain": [
              "5"
            ]
          },
          "execution_count": 48,
          "metadata": {},
          "output_type": "execute_result"
        }
      ],
      "source": [
        "s.pop()"
      ]
    },
    {
      "cell_type": "code",
      "execution_count": null,
      "metadata": {
        "id": "gbEt4QoEXvs0",
        "outputId": "9788a592-a326-4c71-84b8-e0851a3faea1"
      },
      "outputs": [
        {
          "ename": "KeyError",
          "evalue": "'pop from an empty set'",
          "output_type": "error",
          "traceback": [
            "\u001b[0;31m---------------------------------------------------------------------------\u001b[0m",
            "\u001b[0;31mKeyError\u001b[0m                                  Traceback (most recent call last)",
            "Cell \u001b[0;32mIn[50], line 1\u001b[0m\n\u001b[0;32m----> 1\u001b[0m s\u001b[38;5;241m.\u001b[39mpop()\n",
            "\u001b[0;31mKeyError\u001b[0m: 'pop from an empty set'"
          ]
        }
      ],
      "source": [
        "s.pop()"
      ]
    },
    {
      "cell_type": "markdown",
      "metadata": {
        "id": "3ffVqWIgXvs1"
      },
      "source": [
        "### Operators on Sets\n",
        "\n",
        "1. **Union (`|`)**:\n",
        "    - Combines elements from both sets."
      ]
    },
    {
      "cell_type": "markdown",
      "metadata": {
        "id": "Ww66yoBGXvs1"
      },
      "source": [
        "2. **Intersection (`&`)**:\n",
        "    - Finds common elements between sets."
      ]
    },
    {
      "cell_type": "code",
      "execution_count": null,
      "metadata": {
        "id": "fL9jpcrZXvs2",
        "outputId": "b8f740ef-f7c4-464a-ec53-b2b54f54aefe"
      },
      "outputs": [
        {
          "name": "stdout",
          "output_type": "stream",
          "text": [
            "{1, 2, 3, 5, 6}\n"
          ]
        }
      ],
      "source": [
        "set1 ={1,2,3}\n",
        "set2 ={3,5,6}\n",
        "print(set1 | set2)"
      ]
    },
    {
      "cell_type": "code",
      "execution_count": null,
      "metadata": {
        "id": "1bs9qR0XXvs2",
        "outputId": "0ca341b7-c7ba-46cd-c110-2d408bc7a72e"
      },
      "outputs": [
        {
          "name": "stdout",
          "output_type": "stream",
          "text": [
            "{3}\n"
          ]
        }
      ],
      "source": [
        "set1 ={1,2,3}\n",
        "set2 ={3,5,6}\n",
        "\n",
        "print(set1 &set2)"
      ]
    },
    {
      "cell_type": "code",
      "execution_count": null,
      "metadata": {
        "id": "5brinCu3Xvs2",
        "outputId": "96a28c25-a4e0-4265-cba9-f40e2d061422"
      },
      "outputs": [
        {
          "name": "stdout",
          "output_type": "stream",
          "text": [
            "{1, 2}\n"
          ]
        }
      ],
      "source": [
        "set1 ={1,2,3}\n",
        "set2 ={3,5,6}\n",
        "\n",
        "print(set1 -set2)"
      ]
    },
    {
      "cell_type": "code",
      "execution_count": null,
      "metadata": {
        "id": "k6xOAptKXvs2",
        "outputId": "f80fc3d7-e9bf-4540-ad3f-b23a10f8ce0a"
      },
      "outputs": [
        {
          "name": "stdout",
          "output_type": "stream",
          "text": [
            "{1, 2, 5, 6}\n"
          ]
        }
      ],
      "source": [
        "\n",
        "print(set1 ^set2)"
      ]
    },
    {
      "cell_type": "code",
      "execution_count": null,
      "metadata": {
        "id": "NtzGVS_FXvs3"
      },
      "outputs": [],
      "source": []
    },
    {
      "cell_type": "markdown",
      "metadata": {
        "id": "pOEnIgf-Xvs3"
      },
      "source": []
    },
    {
      "cell_type": "markdown",
      "metadata": {
        "id": "xduZpDcEXvs3"
      },
      "source": [
        "3. **Difference (``)**:\n",
        "    - Returns elements in the first set but not in the second."
      ]
    },
    {
      "cell_type": "code",
      "execution_count": null,
      "metadata": {
        "id": "lk4SjcGeXvs3"
      },
      "outputs": [],
      "source": []
    },
    {
      "cell_type": "markdown",
      "metadata": {
        "id": "oe0oH63CXvs3"
      },
      "source": [
        "4. **Symmetric Difference (`^`)**:\n",
        "    - Returns elements in either set but not in both."
      ]
    },
    {
      "cell_type": "code",
      "execution_count": null,
      "metadata": {
        "id": "mVmzUMoUCL41"
      },
      "outputs": [],
      "source": []
    },
    {
      "cell_type": "markdown",
      "metadata": {
        "id": "ZYXqvnO1Xvs3"
      },
      "source": []
    },
    {
      "cell_type": "code",
      "execution_count": null,
      "metadata": {
        "id": "rx3h6o-EXvs3"
      },
      "outputs": [],
      "source": [
        "s3 ={3,7,8}"
      ]
    },
    {
      "cell_type": "markdown",
      "metadata": {
        "id": "gtM1ZY40Xvs4"
      },
      "source": []
    },
    {
      "cell_type": "code",
      "execution_count": null,
      "metadata": {
        "id": "6iB9IBqYXvs4",
        "outputId": "7688492a-52d5-49aa-b4c2-08653ef7669a"
      },
      "outputs": [
        {
          "data": {
            "text/plain": [
              "{1, 2, 3, 5, 6, 7, 8}"
            ]
          },
          "execution_count": 64,
          "metadata": {},
          "output_type": "execute_result"
        }
      ],
      "source": [
        "set1.union(set2,s3)"
      ]
    },
    {
      "cell_type": "code",
      "execution_count": null,
      "metadata": {
        "id": "K08uBFa6Xvs4",
        "outputId": "97434a21-5028-498b-81df-cd444d8a15f4"
      },
      "outputs": [
        {
          "data": {
            "text/plain": [
              "{3}"
            ]
          },
          "execution_count": 58,
          "metadata": {},
          "output_type": "execute_result"
        }
      ],
      "source": [
        "set1.intersection(set2)"
      ]
    },
    {
      "cell_type": "code",
      "execution_count": null,
      "metadata": {
        "id": "6n9KqWkZXvs4",
        "outputId": "dd12f925-a571-45e7-9a18-9d0e91efe406"
      },
      "outputs": [
        {
          "data": {
            "text/plain": [
              "{1, 2}"
            ]
          },
          "execution_count": 59,
          "metadata": {},
          "output_type": "execute_result"
        }
      ],
      "source": [
        "set1.difference(set2)"
      ]
    },
    {
      "cell_type": "code",
      "execution_count": null,
      "metadata": {
        "id": "lsJHDuF6Xvs4",
        "outputId": "3a7ed6da-aa3e-418d-eeb4-c3f6d8ee92fc"
      },
      "outputs": [
        {
          "data": {
            "text/plain": [
              "{1, 2, 5, 6}"
            ]
          },
          "execution_count": 61,
          "metadata": {},
          "output_type": "execute_result"
        }
      ],
      "source": [
        "set1.symmetric_difference(set2)"
      ]
    },
    {
      "cell_type": "code",
      "execution_count": null,
      "metadata": {
        "id": "0zvLES_IXvs4"
      },
      "outputs": [],
      "source": []
    },
    {
      "cell_type": "markdown",
      "metadata": {
        "id": "EcO5S6qio_qN"
      },
      "source": [
        "# Introduction to Dictionaries ✅\n",
        "\n",
        "> Constructing a Dictionary\n",
        "\n",
        "> A dictionary object is constructed using curly braces {key1:value1,key2:value2,key3:value3}\n",
        "\n",
        "> what is Dictionary : ** mapping of one to one relationship b/w key ,value pair is called dictionay**\n",
        "\n",
        "> what are mappings? Mappings are a collection of objects that are stored by a key, unlike a sequence that stored objects"
      ]
    },
    {
      "cell_type": "code",
      "execution_count": null,
      "metadata": {
        "id": "iVxzc7T2o_qQ"
      },
      "outputs": [],
      "source": [
        "# Make a dictionary with {} and : to signify a key and a value\n",
        "\n",
        "marvel_dict = {'Name':'Thor'   ,  'Place':'Asgard',  'Weapon' : 'Hammer',     1:2,    3 : 'power',    'super_heros' : ['Ironman','Captain America'],  'abc' : {1:2, 4:5}}"
      ]
    },
    {
      "cell_type": "code",
      "execution_count": null,
      "metadata": {
        "id": "FCK-f2NQo_qS",
        "outputId": "abd3b3e6-4d54-4e67-e8cd-578d8d533953"
      },
      "outputs": [
        {
          "data": {
            "text/plain": [
              "'Thor'"
            ]
          },
          "execution_count": 8,
          "metadata": {},
          "output_type": "execute_result"
        }
      ],
      "source": [
        "marvel_dict[\"Name\"]"
      ]
    },
    {
      "cell_type": "code",
      "execution_count": null,
      "metadata": {
        "colab": {
          "background_save": true
        },
        "id": "h3arwNCAo_qT",
        "outputId": "3318bcd0-007b-46a6-d697-5f146e19c551"
      },
      "outputs": [
        {
          "data": {
            "text/plain": [
              "['Ironman', 'Captain America']"
            ]
          },
          "execution_count": 11,
          "metadata": {},
          "output_type": "execute_result"
        }
      ],
      "source": [
        "marvel_dict[\"super_heros\"]"
      ]
    },
    {
      "cell_type": "code",
      "execution_count": null,
      "metadata": {
        "id": "jYyvUBTso_qT",
        "outputId": "e152f302-5308-4d86-d75e-edb4a5c5797a"
      },
      "outputs": [
        {
          "data": {
            "text/plain": [
              "'Hammer'"
            ]
          },
          "execution_count": 10,
          "metadata": {},
          "output_type": "execute_result"
        }
      ],
      "source": [
        "marvel_dict ['Weapon']"
      ]
    },
    {
      "cell_type": "code",
      "execution_count": null,
      "metadata": {
        "id": "sS_v6LFno_qU",
        "outputId": "5b5810ae-e326-428c-ecd3-ce222f67c455"
      },
      "outputs": [
        {
          "data": {
            "text/plain": [
              "{1: 2, 4: 5}"
            ]
          },
          "execution_count": 11,
          "metadata": {},
          "output_type": "execute_result"
        }
      ],
      "source": [
        "marvel_dict[\"abc\"]"
      ]
    },
    {
      "cell_type": "code",
      "execution_count": null,
      "metadata": {
        "id": "IqCdwWKDo_qV",
        "outputId": "74ab5cb2-e2cb-4a42-b9a2-fe1be5ecf4b7"
      },
      "outputs": [
        {
          "data": {
            "text/plain": [
              "dict"
            ]
          },
          "execution_count": 12,
          "metadata": {},
          "output_type": "execute_result"
        }
      ],
      "source": [
        "type(marvel_dict)"
      ]
    },
    {
      "cell_type": "markdown",
      "metadata": {
        "id": "wx0dlL_so_qV"
      },
      "source": [
        "# Dictionary Methods\n",
        "\n",
        "# keys()\n",
        "\n",
        "> keys() method returns the list of keys in the dictionary object"
      ]
    },
    {
      "cell_type": "code",
      "execution_count": null,
      "metadata": {
        "id": "IL6B14xIo_qV",
        "outputId": "401ee434-f2a7-437a-aac0-0cbd444e0713"
      },
      "outputs": [
        {
          "data": {
            "text/plain": [
              "dict_keys(['Name', 'Place', 'Weapon', 1, 3, 'super_heros', 'abc'])"
            ]
          },
          "execution_count": 13,
          "metadata": {},
          "output_type": "execute_result"
        }
      ],
      "source": [
        "marvel_dict.keys()"
      ]
    },
    {
      "cell_type": "code",
      "execution_count": null,
      "metadata": {
        "id": "i9PgcTA2o_qV",
        "outputId": "a4adcab2-7d6c-4343-ee62-ab44fd9d96a6"
      },
      "outputs": [
        {
          "data": {
            "text/plain": [
              "['Name',\n",
              " 'Place',\n",
              " 'Weapon',\n",
              " 1,\n",
              " 3,\n",
              " 'super_heros',\n",
              " 'abc',\n",
              " 'Designation',\n",
              " 'Salary',\n",
              " 'ravi']"
            ]
          },
          "execution_count": 46,
          "metadata": {},
          "output_type": "execute_result"
        }
      ],
      "source": [
        "list(marvel_dict.keys())"
      ]
    },
    {
      "cell_type": "markdown",
      "metadata": {
        "id": "WVJmRMqLo_qW"
      },
      "source": [
        "# values()\n",
        "\n",
        "> values() method returns the list of values in the dictionary object"
      ]
    },
    {
      "cell_type": "code",
      "execution_count": null,
      "metadata": {
        "id": "xl76UV6Fo_qW",
        "outputId": "21b3a522-2f98-49a1-f759-8b9a91e864d7"
      },
      "outputs": [
        {
          "name": "stdout",
          "output_type": "stream",
          "text": [
            "{'Name': 'Thor', 'Place': 'Asgard', 'Weapon': 'Hammer', 1: 2, 3: 'power', 'super_heros': ['Ironman', 'Captain America'], 'abc': {1: 2, 4: 5}}\n"
          ]
        }
      ],
      "source": [
        "print(marvel_dict)"
      ]
    },
    {
      "cell_type": "code",
      "execution_count": null,
      "metadata": {
        "id": "_kpf5MH3o_qW",
        "outputId": "61bbbbad-76f9-4e70-eb17-5adf36025147"
      },
      "outputs": [
        {
          "data": {
            "text/plain": [
              "dict_values(['Thor', 'Asgard', 'Hammer', 2, 'power', ['Ironman', 'Captain America'], {1: 2, 4: 5}])"
            ]
          },
          "execution_count": 16,
          "metadata": {},
          "output_type": "execute_result"
        }
      ],
      "source": [
        "marvel_dict.values()"
      ]
    },
    {
      "cell_type": "code",
      "execution_count": null,
      "metadata": {
        "id": "YOU_ud0so_qW",
        "outputId": "8fc47c54-12c9-4435-ad2e-0497001b6a1e"
      },
      "outputs": [
        {
          "data": {
            "text/plain": [
              "['Thor',\n",
              " 'Asgard',\n",
              " 'Hammer',\n",
              " 2,\n",
              " 'power',\n",
              " ['Ironman', 'Captain America'],\n",
              " {1: 2, 4: 5}]"
            ]
          },
          "execution_count": 17,
          "metadata": {},
          "output_type": "execute_result"
        }
      ],
      "source": [
        "list(marvel_dict.values())"
      ]
    },
    {
      "cell_type": "markdown",
      "metadata": {
        "id": "32qYGEAHo_qX"
      },
      "source": [
        "# items()\n",
        "\n",
        "> items() method returns the list of the keys and values"
      ]
    },
    {
      "cell_type": "code",
      "execution_count": null,
      "metadata": {
        "id": "1a70R4Y_o_qX",
        "outputId": "beb1426a-9d89-4638-e6bc-3d42f787974a"
      },
      "outputs": [
        {
          "data": {
            "text/plain": [
              "dict_items([('Name', 'Thor'), ('Place', 'Asgard'), ('Weapon', 'Hammer'), (1, 2), (3, 'power'), ('super_heros', ['Ironman', 'Captain America']), ('abc', {1: 2, 4: 5})])"
            ]
          },
          "execution_count": 18,
          "metadata": {},
          "output_type": "execute_result"
        }
      ],
      "source": [
        "# Get the keys and their corresponding values\n",
        "marvel_dict.items()"
      ]
    },
    {
      "cell_type": "code",
      "execution_count": null,
      "metadata": {
        "id": "PuvneEBEo_qX",
        "outputId": "35dbe9b4-1b91-4fdf-e6b9-7b0e0f72dbc9"
      },
      "outputs": [
        {
          "data": {
            "text/plain": [
              "[('Name', 'Thor'),\n",
              " ('Place', 'Asgard'),\n",
              " ('Weapon', 'Hammer'),\n",
              " (1, 2),\n",
              " (3, 'power'),\n",
              " ('super_heros', ['Ironman', 'Captain America']),\n",
              " ('abc', {1: 2, 4: 5})]"
            ]
          },
          "execution_count": 19,
          "metadata": {},
          "output_type": "execute_result"
        }
      ],
      "source": [
        "list(marvel_dict.items())"
      ]
    },
    {
      "cell_type": "markdown",
      "metadata": {
        "id": "fNPvqtdBo_qX"
      },
      "source": [
        ">> NOTE::We can also use the get() method to extract a particular value of key-value pair."
      ]
    },
    {
      "cell_type": "markdown",
      "metadata": {
        "id": "-hBc3VLyo_qX"
      },
      "source": [
        "# get()\n",
        "\n",
        ">> get() method takes the key as an argument and returns None if the key is not found in the dictionary\n",
        "\n",
        ">>We can also set the value to return if a key is not found. This will be passed as the second argument in get()"
      ]
    },
    {
      "cell_type": "code",
      "execution_count": null,
      "metadata": {
        "id": "EH8JFZRFo_qX",
        "outputId": "681448d3-4af3-4b7f-8545-93a3f3382c57"
      },
      "outputs": [
        {
          "data": {
            "text/plain": [
              "'Asgard'"
            ]
          },
          "execution_count": 20,
          "metadata": {},
          "output_type": "execute_result"
        }
      ],
      "source": [
        "marvel_dict.get('Place')"
      ]
    },
    {
      "cell_type": "code",
      "execution_count": null,
      "metadata": {
        "id": "myNl7Ktlo_qY",
        "outputId": "60be4854-a135-4083-a89a-6d8f57c54929"
      },
      "outputs": [
        {
          "data": {
            "text/plain": [
              "'Asgard'"
            ]
          },
          "execution_count": 21,
          "metadata": {},
          "output_type": "execute_result"
        }
      ],
      "source": [
        "marvel_dict.get('Place',\"found\")"
      ]
    },
    {
      "cell_type": "code",
      "execution_count": null,
      "metadata": {
        "id": "3TFp4mITo_qY",
        "outputId": "0880fb22-4abb-47a5-eb53-41cc7c81366b"
      },
      "outputs": [
        {
          "data": {
            "text/plain": [
              "'Asgard'"
            ]
          },
          "execution_count": 22,
          "metadata": {},
          "output_type": "execute_result"
        }
      ],
      "source": [
        "marvel_dict.get('Place',\"notfound\")"
      ]
    },
    {
      "cell_type": "code",
      "execution_count": null,
      "metadata": {
        "id": "l-uU9e6co_qY",
        "outputId": "625708ae-b7cd-43d5-d680-6d4389fce305"
      },
      "outputs": [
        {
          "data": {
            "text/plain": [
              "'Not Found'"
            ]
          },
          "execution_count": 23,
          "metadata": {},
          "output_type": "execute_result"
        }
      ],
      "source": [
        "marvel_dict.get('Random','Not Found')"
      ]
    },
    {
      "cell_type": "code",
      "execution_count": null,
      "metadata": {
        "id": "2byT2U-2o_qY"
      },
      "outputs": [],
      "source": [
        "# Add a new key\n",
        "\n",
        "marvel_dict['Designation'] ='Data Scientist'"
      ]
    },
    {
      "cell_type": "code",
      "execution_count": null,
      "metadata": {
        "id": "zyJSPU5oo_qY",
        "outputId": "8c0ace76-c665-43c6-ae17-150062b0b269"
      },
      "outputs": [
        {
          "name": "stdout",
          "output_type": "stream",
          "text": [
            "{'Name': 'Thor', 'Place': 'Asgard', 'Weapon': 'Hammer', 1: 2, 3: 'power', 'super_heros': ['Ironman', 'Captain America'], 'abc': {1: 2, 4: 5}, 'Designation': 'Data Scientist'}\n"
          ]
        }
      ],
      "source": [
        "print(marvel_dict)"
      ]
    },
    {
      "cell_type": "code",
      "execution_count": null,
      "metadata": {
        "id": "eo5Prf1No_qZ",
        "outputId": "32ae0afb-14f2-4950-efea-26d8b9c7a9ad"
      },
      "outputs": [
        {
          "data": {
            "text/plain": [
              "'Hammer'"
            ]
          },
          "execution_count": 27,
          "metadata": {},
          "output_type": "execute_result"
        }
      ],
      "source": [
        "marvel_dict.get('Weapon','not found')"
      ]
    },
    {
      "cell_type": "code",
      "execution_count": null,
      "metadata": {
        "id": "zuSFsZtho_qZ",
        "outputId": "d61f3fb8-08c8-44ae-a234-ab853de311b8"
      },
      "outputs": [
        {
          "data": {
            "text/plain": [
              "{'Name': 'Thor',\n",
              " 'Place': 'Asgard',\n",
              " 'Weapon': 'Hammer',\n",
              " 1: 2,\n",
              " 3: 'power',\n",
              " 'super_heros': ['Ironman', 'Captain America'],\n",
              " 'abc': {1: 2, 4: 5},\n",
              " 'Designation': 'Data Scientist'}"
            ]
          },
          "execution_count": 28,
          "metadata": {},
          "output_type": "execute_result"
        }
      ],
      "source": [
        "marvel_dict"
      ]
    },
    {
      "cell_type": "markdown",
      "metadata": {
        "id": "pryyNjpVo_qZ"
      },
      "source": []
    },
    {
      "cell_type": "markdown",
      "metadata": {
        "id": "dhBZjg9Mo_qZ"
      },
      "source": [
        "# another way to add new key"
      ]
    },
    {
      "cell_type": "markdown",
      "metadata": {
        "id": "svTMjtTho_qZ"
      },
      "source": [
        "# update()\n",
        "\n",
        "> You can add an element which is a key-value pair using the update() method\n",
        "\n",
        "> This method takes a dictionary as an argument"
      ]
    },
    {
      "cell_type": "code",
      "execution_count": null,
      "metadata": {
        "id": "_nx17zH2o_qZ"
      },
      "outputs": [],
      "source": [
        "marvel_dict.update({'Salary':'12,00,000',\"ravi\":\"kumar\"})"
      ]
    },
    {
      "cell_type": "code",
      "execution_count": null,
      "metadata": {
        "id": "XjMcjDFZo_qZ",
        "outputId": "827a3314-6d98-483c-ec9c-f8ee696a65c8"
      },
      "outputs": [
        {
          "name": "stdout",
          "output_type": "stream",
          "text": [
            "{'Name': 'Thor', 'Place': 'Asgard', 'Weapon': 'Hammer', 1: 2, 3: 'power', 'super_heros': ['Ironman', 'Captain America'], 'abc': {1: 2, 4: 5}, 'Designation': 'Data Scientist', 'Salary': '12,00,000', 'ravi': 'kumar'}\n"
          ]
        }
      ],
      "source": [
        "print(marvel_dict)"
      ]
    },
    {
      "cell_type": "code",
      "execution_count": null,
      "metadata": {
        "id": "sZfaSMLFo_qa",
        "outputId": "ff3b7e84-0a59-4799-9620-7741e3e7338e"
      },
      "outputs": [
        {
          "data": {
            "text/plain": [
              "10"
            ]
          },
          "execution_count": 31,
          "metadata": {},
          "output_type": "execute_result"
        }
      ],
      "source": [
        "len(marvel_dict)"
      ]
    },
    {
      "cell_type": "code",
      "execution_count": null,
      "metadata": {
        "id": "_0NRqA4Yo_qa"
      },
      "outputs": [],
      "source": [
        "d1= {'name': \"laxman\" , 'MCA' :[\"python\" , \"ML\" , \"DL\" , \"NLP\",\"CV\" , \"Big data\" , \"data analytics\"]}\n",
        "\n",
        "d1\n",
        "\n",
        "d2=d1.copy()"
      ]
    },
    {
      "cell_type": "code",
      "execution_count": null,
      "metadata": {
        "id": "i9LGEviHo_qa",
        "outputId": "393b77a7-0b6d-4687-b580-73a5fa285f07"
      },
      "outputs": [
        {
          "data": {
            "text/plain": [
              "{'name': 'laxman',\n",
              " 'MCA': ['python', 'ML', 'DL', 'NLP', 'CV', 'Big data', 'data analytics']}"
            ]
          },
          "execution_count": 33,
          "metadata": {},
          "output_type": "execute_result"
        }
      ],
      "source": [
        "d2"
      ]
    },
    {
      "cell_type": "markdown",
      "metadata": {
        "id": "Qos5rGAJo_qa"
      },
      "source": [
        "# remove specific dictionary items and change of key names and deleting entire dictionary"
      ]
    },
    {
      "cell_type": "code",
      "execution_count": null,
      "metadata": {
        "id": "dDXwVOwIo_qa"
      },
      "outputs": [],
      "source": [
        "del d1[\"name\"]"
      ]
    },
    {
      "cell_type": "code",
      "execution_count": null,
      "metadata": {
        "id": "B1mLgUFEo_qb",
        "outputId": "738a5a08-d634-4c3a-b3a4-82627adf9d32"
      },
      "outputs": [
        {
          "data": {
            "text/plain": [
              "{'MCA': ['python', 'ML', 'DL', 'NLP', 'CV', 'Big data', 'data analytics']}"
            ]
          },
          "execution_count": 35,
          "metadata": {},
          "output_type": "execute_result"
        }
      ],
      "source": [
        "d1"
      ]
    },
    {
      "cell_type": "code",
      "execution_count": null,
      "metadata": {
        "id": "JJc8Vn37o_qb",
        "outputId": "5a85e522-4091-4071-95c8-13e5f53fd8ae"
      },
      "outputs": [
        {
          "data": {
            "text/plain": [
              "{'name': 'laxman',\n",
              " 'MCA': ['python', 'ML', 'DL', 'NLP', 'CV', 'Big data', 'data analytics']}"
            ]
          },
          "execution_count": 36,
          "metadata": {},
          "output_type": "execute_result"
        }
      ],
      "source": [
        "d2"
      ]
    },
    {
      "cell_type": "code",
      "execution_count": null,
      "metadata": {
        "id": "QFElG7VMo_qb",
        "outputId": "30d9c275-ec5f-43eb-c512-b54c4a408f23"
      },
      "outputs": [
        {
          "data": {
            "text/plain": [
              "{'MCA': ['python', 'ML', 'DL', 'NLP', 'CV', 'Big data', 'data analytics']}"
            ]
          },
          "execution_count": 37,
          "metadata": {},
          "output_type": "execute_result"
        }
      ],
      "source": [
        "d2.pop(\"name\")\n",
        "\n",
        "d2"
      ]
    },
    {
      "cell_type": "markdown",
      "metadata": {
        "id": "HEUxXxivo_qb"
      },
      "source": [
        "# updating key name"
      ]
    },
    {
      "cell_type": "code",
      "execution_count": null,
      "metadata": {
        "id": "C8jsxo84o_qb"
      },
      "outputs": [],
      "source": [
        "d2[\"skills\"]=d2.pop(\"MCA\")"
      ]
    },
    {
      "cell_type": "code",
      "execution_count": null,
      "metadata": {
        "id": "q-gpj85Ro_qb",
        "outputId": "2665064f-bc74-437e-d5b2-3f349679bba9"
      },
      "outputs": [
        {
          "data": {
            "text/plain": [
              "{'skills': ['python', 'ML', 'DL', 'NLP', 'CV', 'Big data', 'data analytics']}"
            ]
          },
          "execution_count": 39,
          "metadata": {},
          "output_type": "execute_result"
        }
      ],
      "source": [
        "d2"
      ]
    },
    {
      "cell_type": "code",
      "execution_count": null,
      "metadata": {
        "id": "jRdTFpmXo_qc"
      },
      "outputs": [],
      "source": [
        "del d2       # it will delete the total dictinary , u will get name Error"
      ]
    },
    {
      "cell_type": "code",
      "execution_count": null,
      "metadata": {
        "id": "rZimf3XGo_qc",
        "outputId": "e528ec63-8234-4963-8fe1-e12419d8b75d"
      },
      "outputs": [
        {
          "ename": "NameError",
          "evalue": "name 'd2' is not defined",
          "output_type": "error",
          "traceback": [
            "\u001b[1;31m---------------------------------------------------------------------------\u001b[0m",
            "\u001b[1;31mNameError\u001b[0m                                 Traceback (most recent call last)",
            "Cell \u001b[1;32mIn[41], line 1\u001b[0m\n\u001b[1;32m----> 1\u001b[0m \u001b[38;5;28mprint\u001b[39m(\u001b[43md2\u001b[49m)\n",
            "\u001b[1;31mNameError\u001b[0m: name 'd2' is not defined"
          ]
        }
      ],
      "source": [
        "print(d2)"
      ]
    },
    {
      "cell_type": "code",
      "execution_count": null,
      "metadata": {
        "id": "7AzCtK9Oo_qc",
        "outputId": "493e77fd-d356-46d2-ba4d-cdc52b58c82a"
      },
      "outputs": [
        {
          "name": "stdout",
          "output_type": "stream",
          "text": [
            "{}\n"
          ]
        }
      ],
      "source": [
        "d1.clear()    # it will clear the dictionary\n",
        "print(d1)"
      ]
    },
    {
      "cell_type": "code",
      "execution_count": null,
      "metadata": {
        "id": "4ePhPHG_o_qc",
        "outputId": "70817487-3d05-4aca-d050-b2b3ae0dc531"
      },
      "outputs": [
        {
          "ename": "TypeError",
          "evalue": "unhashable type: 'list'",
          "output_type": "error",
          "traceback": [
            "\u001b[1;31m---------------------------------------------------------------------------\u001b[0m",
            "\u001b[1;31mTypeError\u001b[0m                                 Traceback (most recent call last)",
            "Cell \u001b[1;32mIn[45], line 1\u001b[0m\n\u001b[1;32m----> 1\u001b[0m d2\u001b[38;5;241m=\u001b[39m{[\u001b[38;5;124m\"\u001b[39m\u001b[38;5;124mlaxman\u001b[39m\u001b[38;5;124m\"\u001b[39m]:\u001b[38;5;124m\"\u001b[39m\u001b[38;5;124mname\u001b[39m\u001b[38;5;124m\"\u001b[39m,\u001b[38;5;241m1\u001b[39m:\u001b[38;5;241m2\u001b[39m}    \u001b[38;5;66;03m# we can't use list as key \u001b[39;00m\n",
            "\u001b[1;31mTypeError\u001b[0m: unhashable type: 'list'"
          ]
        }
      ],
      "source": [
        "d2={[\"laxman\"]:\"name\",1:2}    # we can't use list as key"
      ]
    },
    {
      "cell_type": "code",
      "execution_count": null,
      "metadata": {
        "id": "7ScDLogio_qc",
        "outputId": "a297eca6-9780-4183-a7d2-bcbf32184ae2"
      },
      "outputs": [
        {
          "data": {
            "text/plain": [
              "{(1, 2, 3): 'marks'}"
            ]
          },
          "execution_count": 46,
          "metadata": {},
          "output_type": "execute_result"
        }
      ],
      "source": [
        "d3={(1,2,3):\"marks\"}\n",
        "d3"
      ]
    },
    {
      "cell_type": "code",
      "execution_count": null,
      "metadata": {
        "id": "Lo2_AYTgo_qc",
        "outputId": "095f7cea-1b7a-49e2-9ba8-f648fd55ae8f"
      },
      "outputs": [
        {
          "data": {
            "text/plain": [
              "'marks'"
            ]
          },
          "execution_count": 47,
          "metadata": {},
          "output_type": "execute_result"
        }
      ],
      "source": [
        "d3[(1,2,3)]"
      ]
    },
    {
      "cell_type": "code",
      "execution_count": null,
      "metadata": {
        "id": "bOtOtcHZo_qc",
        "outputId": "5c062b8c-3e0a-4ff9-c332-dae4d65f7aa2"
      },
      "outputs": [
        {
          "ename": "KeyError",
          "evalue": "1",
          "output_type": "error",
          "traceback": [
            "\u001b[1;31m---------------------------------------------------------------------------\u001b[0m",
            "\u001b[1;31mKeyError\u001b[0m                                  Traceback (most recent call last)",
            "Cell \u001b[1;32mIn[50], line 1\u001b[0m\n\u001b[1;32m----> 1\u001b[0m \u001b[43md3\u001b[49m\u001b[43m[\u001b[49m\u001b[43m(\u001b[49m\u001b[38;5;241;43m1\u001b[39;49m\u001b[43m)\u001b[49m\u001b[43m]\u001b[49m ,d3[(\u001b[38;5;241m2\u001b[39m)], d3[(\u001b[38;5;241m3\u001b[39m)]\n",
            "\u001b[1;31mKeyError\u001b[0m: 1"
          ]
        }
      ],
      "source": [
        "d3[(1)] ,d3[(2)], d3[(3)]"
      ]
    },
    {
      "cell_type": "code",
      "execution_count": null,
      "metadata": {
        "id": "UzUMhM_8o_qc",
        "outputId": "9f27d900-9227-436f-eeea-ec0afbc3a3de"
      },
      "outputs": [
        {
          "ename": "TypeError",
          "evalue": "unhashable type: 'set'",
          "output_type": "error",
          "traceback": [
            "\u001b[1;31m---------------------------------------------------------------------------\u001b[0m",
            "\u001b[1;31mTypeError\u001b[0m                                 Traceback (most recent call last)",
            "Cell \u001b[1;32mIn[51], line 1\u001b[0m\n\u001b[1;32m----> 1\u001b[0m d4\u001b[38;5;241m=\u001b[39m {{\u001b[38;5;241m12\u001b[39m}:\u001b[38;5;124m\"\u001b[39m\u001b[38;5;124mmarks\u001b[39m\u001b[38;5;124m\"\u001b[39m}     \u001b[38;5;66;03m# we can't use set as key\u001b[39;00m\n\u001b[0;32m      2\u001b[0m d4\n",
            "\u001b[1;31mTypeError\u001b[0m: unhashable type: 'set'"
          ]
        }
      ],
      "source": [
        "d4= {{12}:\"marks\"}     # we can't use set as key\n",
        "d4"
      ]
    },
    {
      "cell_type": "code",
      "execution_count": null,
      "metadata": {
        "id": "eyxBMXato_qd"
      },
      "outputs": [],
      "source": [
        "d1= {'name': \"laxman\" , 'MCA' :[\"python\" , \"ML\" , \"DL\" , \"NLP\",\"CV\" , \"Big data\" , \"data analytics\"]}\n",
        "\n",
        "d1\n",
        "\n",
        "d2=d1.copy()"
      ]
    },
    {
      "cell_type": "code",
      "execution_count": null,
      "metadata": {
        "id": "M2cUUe_do_qd",
        "outputId": "7245e640-83c0-48eb-ae01-f0197388564f"
      },
      "outputs": [
        {
          "ename": "TypeError",
          "evalue": "unsupported operand type(s) for +: 'dict' and 'dict'",
          "output_type": "error",
          "traceback": [
            "\u001b[1;31m---------------------------------------------------------------------------\u001b[0m",
            "\u001b[1;31mTypeError\u001b[0m                                 Traceback (most recent call last)",
            "Cell \u001b[1;32mIn[53], line 1\u001b[0m\n\u001b[1;32m----> 1\u001b[0m \u001b[43md1\u001b[49m\u001b[38;5;241;43m+\u001b[39;49m\u001b[43md3\u001b[49m\n",
            "\u001b[1;31mTypeError\u001b[0m: unsupported operand type(s) for +: 'dict' and 'dict'"
          ]
        }
      ],
      "source": [
        "d1+d3"
      ]
    }
  ],
  "metadata": {
    "colab": {
      "provenance": [],
      "include_colab_link": true
    },
    "kernelspec": {
      "display_name": "Python 3",
      "name": "python3"
    },
    "language_info": {
      "name": "python"
    }
  },
  "nbformat": 4,
  "nbformat_minor": 0
}